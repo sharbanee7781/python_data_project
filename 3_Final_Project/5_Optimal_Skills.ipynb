{
 "cells": [
  {
   "cell_type": "markdown",
   "id": "bffb6632",
   "metadata": {},
   "source": [
    "What is the most optimal skill to learn for Data Analysts?\n"
   ]
  },
  {
   "cell_type": "markdown",
   "id": "0c8d0299",
   "metadata": {},
   "source": [
    "Methodology:\n",
    "\n",
    "1. Continue from last notebook to find percent of postings with skill\n",
    "2. Visualize median salary vs percent skill demand\n",
    "3. (Optional) Determine if certain technologies are more prevalent\n",
    "\n"
   ]
  },
  {
   "cell_type": "markdown",
   "id": "c387dcba",
   "metadata": {},
   "source": []
  }
 ],
 "metadata": {
  "language_info": {
   "name": "python"
  }
 },
 "nbformat": 4,
 "nbformat_minor": 5
}
