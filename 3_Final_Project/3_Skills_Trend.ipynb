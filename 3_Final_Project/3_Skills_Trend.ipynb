{
 "cells": [
  {
   "cell_type": "markdown",
   "id": "b2dd0b0d",
   "metadata": {},
   "source": [
    "How are in-demand skills trending for Data Analysts?\n",
    "\n",
    "1. Aggregate skills count monthly\n",
    "2. Re-analyze based on percentage of total jobs\n",
    "3. Plot the monthly skill demand"
   ]
  },
  {
   "cell_type": "code",
   "execution_count": null,
   "id": "133249eb",
   "metadata": {
    "vscode": {
     "languageId": "plaintext"
    }
   },
   "outputs": [],
   "source": []
  }
 ],
 "metadata": {
  "language_info": {
   "name": "python"
  }
 },
 "nbformat": 4,
 "nbformat_minor": 5
}
