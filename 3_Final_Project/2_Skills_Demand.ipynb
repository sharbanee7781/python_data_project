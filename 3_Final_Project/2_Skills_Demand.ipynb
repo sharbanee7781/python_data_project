{
 "cells": [
  {
   "cell_type": "markdown",
   "id": "5d6428ac",
   "metadata": {},
   "source": [
    "What are the most demanded skills for top 3 most popular Data roles?\n",
    "\n",
    "1. Cleanup the skills column\n",
    "2. Calculate skills percentage\n",
    "3. Plot final findings"
   ]
  }
 ],
 "metadata": {
  "language_info": {
   "name": "python"
  }
 },
 "nbformat": 4,
 "nbformat_minor": 5
}
