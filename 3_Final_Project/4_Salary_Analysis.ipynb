{
 "cells": [
  {
   "cell_type": "markdown",
   "id": "c9301230",
   "metadata": {},
   "source": [
    "How well do jobs and skills pay for data analysts?\n",
    "1. Evaluate median salary of top 5 data jobs\n",
    "2. Find median salary per skill for Data Analysts\n",
    "3. Visualize for highest paying skills and most demanded skills\n"
   ]
  },
  {
   "cell_type": "code",
   "execution_count": null,
   "id": "20e36223",
   "metadata": {
    "vscode": {
     "languageId": "plaintext"
    }
   },
   "outputs": [],
   "source": []
  }
 ],
 "metadata": {
  "language_info": {
   "name": "python"
  }
 },
 "nbformat": 4,
 "nbformat_minor": 5
}
