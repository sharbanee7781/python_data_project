{
 "cells": [
  {
   "cell_type": "code",
   "execution_count": 7,
   "id": "e78994e4",
   "metadata": {},
   "outputs": [],
   "source": [
    "import pandas as pd\n",
    "from datasets import load_dataset\n",
    "import matplotlib.pyplot as plt\n",
    "\n",
    "#loading dataset\n",
    "dataset = load_dataset('coachprerakmehta/data_jobs')\n",
    "df = dataset['train'].to_pandas()\n",
    "#data cleaning\n",
    "df['job_posted_date'] = pd.to_datetime(df['job_posted_date'])\n"
   ]
  }
 ],
 "metadata": {
  "kernelspec": {
   "display_name": "base",
   "language": "python",
   "name": "python3"
  },
  "language_info": {
   "codemirror_mode": {
    "name": "ipython",
    "version": 3
   },
   "file_extension": ".py",
   "mimetype": "text/x-python",
   "name": "python",
   "nbconvert_exporter": "python",
   "pygments_lexer": "ipython3",
   "version": "3.13.5"
  }
 },
 "nbformat": 4,
 "nbformat_minor": 5
}
